{
 "cells": [
  {
   "cell_type": "raw",
   "id": "a328ee72-172d-4246-aff9-5dc12c063e8b",
   "metadata": {},
   "source": [
    "Каирова Екатерина ТФэ-01-21\n",
    "Домашняя работа 2\n",
    "Задание 2"
   ]
  },
  {
   "cell_type": "markdown",
   "id": "bb68a4d3-c344-4a54-ac59-4f757825d652",
   "metadata": {},
   "source": [
    "При удельных расходах водяного пара \n",
    "= 2,9 кг/(кВт·ч) и \n",
    "= 3,4 кг/(кВт·ч) оценить удельные расходы теплоты на выработку электроэнергии, приняв разность энтальпий \n",
    " – пв\n",
    " = 2400 кДж/кг."
   ]
  },
  {
   "cell_type": "code",
   "execution_count": 6,
   "id": "ff22aa5f-bcc0-4feb-9b8c-359ec68f8641",
   "metadata": {},
   "outputs": [],
   "source": [
    "d_0_1 = 2.9\n",
    "d_0_2 = 3.4\n",
    "delta_h = 2400\n",
    "Q = delta_h"
   ]
  },
  {
   "cell_type": "code",
   "execution_count": 7,
   "id": "37e16912-15bb-4365-bdae-ea81f8e1da01",
   "metadata": {},
   "outputs": [],
   "source": [
    "L_1 = 3600 / d_0_1\n",
    "L_2 = 3600 / d_0_2"
   ]
  },
  {
   "cell_type": "code",
   "execution_count": 8,
   "id": "1cd8e710-071b-4dc1-89aa-0360ffc19165",
   "metadata": {},
   "outputs": [],
   "source": [
    "efficiency_1 = L_1 / Q\n",
    "efficiency_2 = L_2 / Q"
   ]
  },
  {
   "cell_type": "code",
   "execution_count": 9,
   "id": "bf406e72-9f73-4930-93eb-7df2e13522c1",
   "metadata": {},
   "outputs": [],
   "source": [
    "q_1 = 3600 / efficiency_1\n",
    "q_2 = 3600 / efficiency_2"
   ]
  },
  {
   "cell_type": "code",
   "execution_count": 10,
   "id": "e6a6c7d0-416a-4c4a-9cf8-16b9832c3bc2",
   "metadata": {},
   "outputs": [
    {
     "name": "stdout",
     "output_type": "stream",
     "text": [
      "Ответ на задачу:  6960.0 кДж/кВт*ч для первой турбины. 8160.0 кДж/кВт*ч для второй турбины\n"
     ]
    }
   ],
   "source": [
    "print(\"Ответ на задачу: \",round(q_1, 3), \"кДж/кВт*ч для первой турбины.\",\n",
    "          round(q_2, 3), \"кДж/кВт*ч для второй турбины\")"
   ]
  }
 ],
 "metadata": {
  "kernelspec": {
   "display_name": "Python 3 (ipykernel)",
   "language": "python",
   "name": "python3"
  },
  "language_info": {
   "codemirror_mode": {
    "name": "ipython",
    "version": 3
   },
   "file_extension": ".py",
   "mimetype": "text/x-python",
   "name": "python",
   "nbconvert_exporter": "python",
   "pygments_lexer": "ipython3",
   "version": "3.11.6"
  }
 },
 "nbformat": 4,
 "nbformat_minor": 5
}
