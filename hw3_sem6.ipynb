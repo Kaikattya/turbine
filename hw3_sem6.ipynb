{
 "cells": [
  {
   "cell_type": "markdown",
   "id": "8c2e4190-a64c-42b6-b3ab-a66a37d8a406",
   "metadata": {},
   "source": [
    "<h2 style=\"text-align: center;\">НАЦИОНАЛЬНЫЙ ИССЛЕДОВАТЕЛЬСКИЙ УНИВЕРСИТЕТ \n",
    "<br/>МОСКОВСКИЙ ЭНЕРГЕТИЧЕСКИЙ ИНСТИТУТ</h2>\n",
    "</br>\n",
    "<h3 style=\"text-align: center;\">Кафедра Паровых и Газовых Турбин</h3>\n",
    "\n",
    "</br>\n",
    "</br>\n",
    " </br>\n",
    " </br>\n",
    " </br>\n",
    "\n",
    " <h1 style=\"text-align: center;\">Курсовая работа по курсу:</h1>\n",
    " <h1 style=\"text-align: center;\">«Паровые и газовые турбины»</h1>\n",
    "\n",
    " </br>\n",
    " </br>\n",
    " </br>\n",
    " </br>\n",
    " </br>\n",
    "\n",
    " <h5 style=\"text-align: right;\">Студент: Каирова Екатерина Андреевна </h5>\n",
    " <h5 style=\"text-align: right;\">5 вариант</h5>\n",
    " <h5 style=\"text-align: right;\">Группа: ТФэ-01-21 </h5>\n",
    "\n",
    " </br>\n",
    " </br>\n",
    " </br>\n",
    " </br>\n",
    " </br>\n",
    " </br>\n",
    " </br>\n",
    " </br>\n",
    " </br>\n",
    " </br>\n",
    " </br>\n",
    " </br>\n",
    " </br>\n",
    " </br>\n",
    " </br>\n",
    "\n",
    " <h5 style=\"text-align: center;\">Москва 2024</h5>"
   ]
  },
  {
   "cell_type": "markdown",
   "id": "b1db96c2-4a8c-4f57-8693-95255bf0782d",
   "metadata": {},
   "source": [
    " ### $\\space$ Дано:\n",
    "  * $P_0 = 25 \\space МПа $ - начальное давление\n",
    "  * $t_0 = 600 ^\\circ C$ -  начальная температура\n",
    "  * $P_{пп} = 4 \\space МПа$ -  давление промперегрева\n",
    "  * $t_{пп} = 600 ^\\circ C$ -  температура промперегрева\n",
    "  * $P_{к} = 3.5 \\space кПа$ -  давление в конденсаторе\n",
    "  * $t_{п.в.} = 260^\\circ C$ -  температура питательной воды\n",
    "\n",
    "  * $N_{э} = 330 \\space МВт$ -  электрическая мощность\n",
    "  * z = 8 -  число регенеративных подогревателей"
   ]
  },
  {
   "cell_type": "markdown",
   "id": "3dc5e86b-0b87-4244-b371-18df9ba8d9a4",
   "metadata": {},
   "source": [
    "# 1. Построение процесса расширения пара в турбине.\n",
    "## 1.1 Определение расходов пара на входе в турбину $G_0$ и в конденсатор $G_к$."
   ]
  },
  {
   "cell_type": "code",
   "execution_count": 26,
   "id": "0c7e84e0-df4f-42f0-8cd5-6afa2b85bb91",
   "metadata": {},
   "outputs": [],
   "source": [
    "electrical_power = 330 * 10 ** 6\n",
    "p0 = 25 * 10 ** 6\n",
    "t0 = 600\n",
    "p_middle = 4 * 10 ** 6\n",
    "t_middle = 600\n",
    "pk = 3.5 * 10 ** 3\n",
    "t_feed_water = 260\n",
    "p_feed_water = 1.4 * p0\n",
    "z = 8\n",
    "H_0 = 100*1000\n",
    "n = 50\n",
    "avg_diameter = 1.1"
   ]
  },
  {
   "cell_type": "code",
   "execution_count": 42,
   "id": "f3766f69-4194-4e4d-9fde-d22e55344781",
   "metadata": {},
   "outputs": [],
   "source": [
    "import class6"
   ]
  },
  {
   "cell_type": "markdown",
   "id": "cfbf5950-d099-4151-afc0-9b69d0159734",
   "metadata": {},
   "source": [
    "# Из графика получаем, что коэффициент равен 0.89"
   ]
  },
  {
   "cell_type": "markdown",
   "id": "26007078-0cc4-495d-8248-e0eed8db42f0",
   "metadata": {},
   "source": [
    "![image.png]( image.png)"
   ]
  },
  {
   "cell_type": "markdown",
   "id": "9d285431-9421-4413-b53f-11f8ed128e4c",
   "metadata": {},
   "source": [
    "### Массовый расход в турбину на входе (кг/с)"
   ]
  },
  {
   "cell_type": "code",
   "execution_count": 44,
   "id": "8a6c6ded-a7e8-472d-9687-a098a577a99e",
   "metadata": {
    "scrolled": true
   },
   "outputs": [
    {
     "ename": "AttributeError",
     "evalue": "module 'class6' has no attribute 'f_inlet_mass_flow'",
     "output_type": "error",
     "traceback": [
      "\u001b[1;31m---------------------------------------------------------------------------\u001b[0m",
      "\u001b[1;31mAttributeError\u001b[0m                            Traceback (most recent call last)",
      "Cell \u001b[1;32mIn[44], line 1\u001b[0m\n\u001b[1;32m----> 1\u001b[0m \u001b[43mclass6\u001b[49m\u001b[38;5;241;43m.\u001b[39;49m\u001b[43mf_inlet_mass_flow\u001b[49m(electrical_power,pk,p0, t0,p_middle, t_middle, p_feed_water, t_feed_water)\n",
      "\u001b[1;31mAttributeError\u001b[0m: module 'class6' has no attribute 'f_inlet_mass_flow'"
     ]
    }
   ],
   "source": [
    "#в классе такая функция есть, но ошибку все равно выдает\n",
    "#хз как фиксить\n",
    "class6.f_inlet_mass_flow(electrical_power,pk,p0, t0,p_middle, t_middle, p_feed_water, t_feed_water)"
   ]
  },
  {
   "cell_type": "markdown",
   "id": "643f88f1-91db-40c1-a2a2-2c63a4a60b87",
   "metadata": {},
   "source": [
    "### Массовый расход в конденсатор (кг/с)"
   ]
  },
  {
   "cell_type": "code",
   "execution_count": 36,
   "id": "3df49a40-67d7-4a36-83e0-1c67b205eff1",
   "metadata": {},
   "outputs": [
    {
     "ename": "AttributeError",
     "evalue": "module 'class6' has no attribute 'f_condenser_mass_flow'",
     "output_type": "error",
     "traceback": [
      "\u001b[1;31m---------------------------------------------------------------------------\u001b[0m",
      "\u001b[1;31mAttributeError\u001b[0m                            Traceback (most recent call last)",
      "Cell \u001b[1;32mIn[36], line 1\u001b[0m\n\u001b[1;32m----> 1\u001b[0m \u001b[43mclass6\u001b[49m\u001b[38;5;241;43m.\u001b[39;49m\u001b[43mf_condenser_mass_flow\u001b[49m(electrical_power,pk,p0, t0,p_middle, t_middle, p_feed_water, t_feed_water)\n",
      "\u001b[1;31mAttributeError\u001b[0m: module 'class6' has no attribute 'f_condenser_mass_flow'"
     ]
    }
   ],
   "source": [
    "class6.f_condenser_mass_flow(electrical_power,pk,p0, t0,p_middle, t_middle, p_feed_water, t_feed_water)"
   ]
  },
  {
   "cell_type": "markdown",
   "id": "f686cbe2-25f3-4c56-9882-c6122b0bfa70",
   "metadata": {},
   "source": [
    "### Процесс расширения пара в турбине"
   ]
  },
  {
   "cell_type": "code",
   "execution_count": 30,
   "id": "12a03528-3e88-43f3-8f18-574619485200",
   "metadata": {},
   "outputs": [
    {
     "ename": "AttributeError",
     "evalue": "module 'class6' has no attribute 'plot_hs_diagram'",
     "output_type": "error",
     "traceback": [
      "\u001b[1;31m---------------------------------------------------------------------------\u001b[0m",
      "\u001b[1;31mAttributeError\u001b[0m                            Traceback (most recent call last)",
      "Cell \u001b[1;32mIn[30], line 2\u001b[0m\n\u001b[0;32m      1\u001b[0m fig, ax  \u001b[38;5;241m=\u001b[39m class6\u001b[38;5;241m.\u001b[39mplt\u001b[38;5;241m.\u001b[39msubplots(\u001b[38;5;241m1\u001b[39m, \u001b[38;5;241m1\u001b[39m, figsize\u001b[38;5;241m=\u001b[39m(\u001b[38;5;241m15\u001b[39m, \u001b[38;5;241m15\u001b[39m))\n\u001b[1;32m----> 2\u001b[0m \u001b[43mclass6\u001b[49m\u001b[38;5;241;43m.\u001b[39;49m\u001b[43mplot_hs_diagram\u001b[49m(\n\u001b[0;32m      3\u001b[0m     ax,\n\u001b[0;32m      4\u001b[0m     points\u001b[38;5;241m=\u001b[39m[class6\u001b[38;5;241m.\u001b[39mf__point_0(p0, t0),kr1\u001b[38;5;241m.\u001b[39mf_point_0(p0, t0), class6\u001b[38;5;241m.\u001b[39mf_point_1t(p_middle,p0, t0), class6\u001b[38;5;241m.\u001b[39mf_point_1(p0, t0, p_middle),\n\u001b[0;32m      5\u001b[0m             class6\u001b[38;5;241m.\u001b[39mf__point_middle(p_middle, t_middle), class6\u001b[38;5;241m.\u001b[39mf_point_middle(p_middle, t_middle), \n\u001b[0;32m      6\u001b[0m             class6\u001b[38;5;241m.\u001b[39mf_point_2(pk,p_middle, t_middle), class6\u001b[38;5;241m.\u001b[39mf_point_2t(pk,p_middle, t_middle)]                                 )\n\u001b[0;32m      7\u001b[0m class6\u001b[38;5;241m.\u001b[39mplot_process(ax, points\u001b[38;5;241m=\u001b[39m[class6\u001b[38;5;241m.\u001b[39mf__point_0(p0, t0), class6\u001b[38;5;241m.\u001b[39mf_point_0(p0, t0), class6\u001b[38;5;241m.\u001b[39mf_point_1(p0, t0, p_middle)], color\u001b[38;5;241m=\u001b[39m\u001b[38;5;124m'\u001b[39m\u001b[38;5;124mblack\u001b[39m\u001b[38;5;124m'\u001b[39m)\n\u001b[0;32m      8\u001b[0m class6\u001b[38;5;241m.\u001b[39mplot_process(ax, points\u001b[38;5;241m=\u001b[39m[class6\u001b[38;5;241m.\u001b[39mf__point_middle(p_middle, t_middle), class6\u001b[38;5;241m.\u001b[39mf_point_middle(p_middle, t_middle), \n\u001b[0;32m      9\u001b[0m                          class6\u001b[38;5;241m.\u001b[39mf_point_2(pk,p_middle, t_middle)],color\u001b[38;5;241m=\u001b[39m\u001b[38;5;124m'\u001b[39m\u001b[38;5;124mblack\u001b[39m\u001b[38;5;124m'\u001b[39m)\n",
      "\u001b[1;31mAttributeError\u001b[0m: module 'class6' has no attribute 'plot_hs_diagram'"
     ]
    },
    {
     "data": {
      "image/png": "[encoded data removed]",
      "text/plain": [
       "<Figure size 1500x1500 with 1 Axes>"
      ]
     },
     "metadata": {},
     "output_type": "display_data"
    }
   ],
   "source": [
    "fig, ax  = class6.plt.subplots(1, 1, figsize=(15, 15))\n",
    "class6.plot_hs_diagram(\n",
    "    ax,\n",
    "    points=[class6.f__point_0(p0, t0),kr1.f_point_0(p0, t0), class6.f_point_1t(p_middle,p0, t0), class6.f_point_1(p0, t0, p_middle),\n",
    "            class6.f__point_middle(p_middle, t_middle), class6.f_point_middle(p_middle, t_middle), \n",
    "            class6.f_point_2(pk,p_middle, t_middle), class6.f_point_2t(pk,p_middle, t_middle)]                                 )\n",
    "class6.plot_process(ax, points=[class6.f__point_0(p0, t0), class6.f_point_0(p0, t0), class6.f_point_1(p0, t0, p_middle)], color='black')\n",
    "class6.plot_process(ax, points=[class6.f__point_middle(p_middle, t_middle), class6.f_point_middle(p_middle, t_middle), \n",
    "                         class6.f_point_2(pk,p_middle, t_middle)],color='black')\n",
    "class6.plot_process(ax, points=[class6.f__point_0(p0, t0), class6.f_point_0(p0, t0), class6.f_point_1t(p_middle,p0, t0)], alpha=0.5, \n",
    "             color='grey')\n",
    "class6.plot_process(ax, points=[class6.f__point_middle(p_middle, t_middle), class6.f_point_middle(p_middle, t_middle), \n",
    "                         class6.f_point_2t(pk,p_middle, t_middle)], alpha=0.5, color='grey')"
   ]
  },
  {
   "cell_type": "code",
   "execution_count": null,
   "id": "0267c81b-f4b7-4d75-b705-3233579e5307",
   "metadata": {},
   "outputs": [],
   "source": []
  },
  {
   "cell_type": "code",
   "execution_count": null,
   "id": "69091165-3ff2-4a9e-930b-4c519fe32299",
   "metadata": {},
   "outputs": [],
   "source": []
  },
  {
   "cell_type": "code",
   "execution_count": null,
   "id": "c89f188f-ecec-4a29-8175-5618ff39f76a",
   "metadata": {},
   "outputs": [],
   "source": []
  },
  {
   "cell_type": "code",
   "execution_count": null,
   "id": "54fe9385-c632-4b95-b5c9-cb9c1c33cf5e",
   "metadata": {},
   "outputs": [],
   "source": []
  }
 ],
 "metadata": {
  "kernelspec": {
   "display_name": "Python 3 (ipykernel)",
   "language": "python",
   "name": "python3"
  },
  "language_info": {
   "codemirror_mode": {
    "name": "ipython",
    "version": 3
   },
   "file_extension": ".py",
   "mimetype": "text/x-python",
   "name": "python",
   "nbconvert_exporter": "python",
   "pygments_lexer": "ipython3",
   "version": "3.11.8"
  }
 },
 "nbformat": 4,
 "nbformat_minor": 5
}
