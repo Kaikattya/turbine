{
 "cells": [
  {
   "cell_type": "markdown",
   "id": "8274956e-5e75-4a7b-b0c3-de2a4171dde4",
   "metadata": {},
   "source": [
    "Каирова Екатерина ТФэ-01-21\n",
    "Домашняя работа 3\n",
    "Задание 1"
   ]
  },
  {
   "cell_type": "markdown",
   "id": "65d14d0a-7640-4c69-911f-c19124ca1a0a",
   "metadata": {},
   "source": [
    "Для одной из промежуточных ступеней паровой турбины построить графически треугольники скоростей для 10 сечений равномерно распределенных по высоте при следующих исходных данных:\r\n",
    "\r\n",
    " = 16,7 МПа\r\n",
    " = 520 ˚C\r\n",
    "Р\r\n",
    " = 14,5 МПа\r\n",
    "р\r\n",
    " = 0.892 м\r\n",
    "корня\r\n",
    " = 0.8 м\r\n",
    "ср\r\n",
    " = 0.2\r\n",
    "ср\r\n",
    " = 13˚\r\n",
    "β2 = β1 - 5˚\r\n",
    "φ = 0,97\r\n",
    "ψ = 0,935\r\n",
    "n = 50 1/c\r\n",
    "Степень реактивности по высоте распределена по формуле \r\n",
    "ср\r\n",
    " \r\n",
    "ср\r\n",
    " \r\n",
    "Углол \r\n",
    " распределен по высоте по формуле: \r\n",
    "ср\r\n",
    " \r\n",
    "ср\r\n",
    " \r\n"
   ]
  },
  {
   "cell_type": "code",
   "execution_count": 2,
   "id": "0e66ed77-c457-4448-b698-db7d778572b4",
   "metadata": {},
   "outputs": [],
   "source": [
    "import iapws\n",
    "import math\n",
    "from iapws import IAPWS97 as gas\n",
    "import matplotlib.pyplot as plt\n",
    "import numpy as np\n"
   ]
  },
  {
   "cell_type": "code",
   "execution_count": 3,
   "id": "e805cd17-4a71-4c49-9463-b27ddb9b0c22",
   "metadata": {},
   "outputs": [],
   "source": [
    "MPa = 10 ** 6\n",
    "kPa = 10 ** 3\n",
    "unit = 1 / MPa\n",
    "to_kelvin = lambda x: x + 273.15 if x else None"
   ]
  },
  {
   "cell_type": "code",
   "execution_count": 4,
   "id": "44fd8958-c993-494b-9415-98faf85df28e",
   "metadata": {},
   "outputs": [],
   "source": [
    "p_0 = 16.7 * MPa\n",
    "t_0 = to_kelvin(520)\n",
    "p_2 = 14.5 * MPa\n",
    "avg_diameter = 0.892\n",
    "diameter_inlet = 0.8\n",
    "degree_of_reaction_avg = 0.2\n",
    "alpha_1_deg_avg = 13\n",
    "delta_beta_deg = 5\n",
    "fi = 0.97\n",
    "psi = 0.935\n",
    "rotation_speed = 50\n",
    "diameter_outlet = avg_diameter * 2 - diameter_inlet\n",
    "n = 11\n",
    "step = (diameter_outlet - diameter_inlet)\n",
    "diam = list(np.arange(diameter_inlet, diameter_outlet, step))\n"
   ]
  },
  {
   "cell_type": "code",
   "execution_count": 5,
   "id": "0a7b74b6-5093-4ea3-95bf-4ff4dc9e05db",
   "metadata": {},
   "outputs": [
    {
     "ename": "SyntaxError",
     "evalue": "expected ':' (1217788242.py, line 1)",
     "output_type": "error",
     "traceback": [
      "\u001b[1;36m  Cell \u001b[1;32mIn[5], line 1\u001b[1;36m\u001b[0m\n\u001b[1;33m    def heat_drop(p_0,t_0,p_2)\u001b[0m\n\u001b[1;37m                              ^\u001b[0m\n\u001b[1;31mSyntaxError\u001b[0m\u001b[1;31m:\u001b[0m expected ':'\n"
     ]
    }
   ],
   "source": [
    "def heat_drop(p_0,t_0,p_2)\n",
    "  inlet_point = gas(P=p_0 * unit, T=t_0)\n",
    "  outlet_point = gas(P=p_2 * unit, s=inlet_point.s)\n",
    "  theoretical_heat_drop = inlet_point.h - outlet_point.h\n",
    "  return theoretical_heat_drop"
   ]
  },
  {
   "cell_type": "code",
   "execution_count": null,
   "id": "41c8395c-7687-4902-be22-11f46e6cf835",
   "metadata": {},
   "outputs": [],
   "source": [
    "def stator_and_rotor(theoretical_heat_drop,degree_of_reaction)\n",
    "  stator_heat_drop = theoretical_heat_drop * (1 - degree_of_reaction)\n",
    "  rotor_heat_drop = theoretical_heat_drop * degree_of_reaction\n",
    "  return stator_heat_drop, rotor_heat_drop"
   ]
  },
  {
   "cell_type": "code",
   "execution_count": null,
   "id": "6a3ed716-aa81-4d09-8b50-a345b30db78d",
   "metadata": {},
   "outputs": [],
   "source": [
    "def compute_speed(stator_heat_drop,avg_diameter,alpha_1_deg,rotor_heat_drop)\n",
    "  fi = 0.97\n",
    "  psi = 0.935\n",
    "  rotation_speed = 50\n",
    "  c_1t = (2 * 1000 * stator_heat_drop) ** 0.5\n",
    "  c_1 = c_1t * fi\n",
    "  u = math.pi * avg_diameter * rotation_speed\n",
    "  sin_alpha_1 = math.sin(math.radians(alpha_1_deg))\n",
    "  cos_alpha_1 = math.cos(math.radians(alpha_1_deg))\n",
    "  w_1 = (c_1 ** 2 + u ** 2 - 2 * c_1 * u * cos_alpha_1) ** 0.5\n",
    "  w_2t = (w_1 ** 2 + 2 * rotor_heat_drop * 1000) ** 0.5\n",
    "  w_2 = w_2t * psi\n",
    "  beta_1 = math.atan(sin_alpha_1 / (cos_alpha_1 - u / c_1))\n",
    "  beta_1_deg = math.degrees(beta_1)\n",
    "  beta_2_deg = beta_1_deg - delta_beta_deg\n",
    "  sin_beta_2 = math.sin(math.radians(beta_2_deg))\n",
    "  cos_beta_2 = math.cos(math.radians(beta_2_deg))\n",
    "  c_2 = (w_2 ** 2 + u ** 2 - 2 * w_2 * u * cos_beta_2) ** 0.5\n",
    "  return c_1,cos_alpha_1,sin_alpha_1,u,w_2,cos_beta_2,sin_beta_2"
   ]
  },
  {
   "cell_type": "code",
   "execution_count": null,
   "id": "fe957758-401e-4c7c-a406-d328655d517d",
   "metadata": {},
   "outputs": [],
   "source": [
    "def get_degree_of_reaction(R,R_avg,degree_of_reaction_avg):\n",
    "  degree_of_reaction = (1/((R/R_avg) ** 1.7)) * (degree_of_reaction_avg - 1) + 1\n",
    "  return degree_of_reaction"
   ]
  },
  {
   "cell_type": "code",
   "execution_count": null,
   "id": "a18c37e7-1fcb-4b8b-b22b-dd3b29605056",
   "metadata": {},
   "outputs": [],
   "source": [
    "def alpha_1 (R,R_avg,alpha_1_deg_avg):\n",
    "  alpha_1_deg = ((R/R_avg) ** 2) * alpha_1_deg_avg\n",
    "  return alpha_1_deg"
   ]
  },
  {
   "cell_type": "code",
   "execution_count": null,
   "id": "57ef3925-c222-4915-a8d6-c30a357e5c48",
   "metadata": {},
   "outputs": [],
   "source": [
    "def compute_points(c_1,cos_alpha_1,sin_alpha_1,u,w_2,cos_beta_2,sin_beta_2):\n",
    "  c1_plot = [[0, -c_1 * cos_alpha_1], [0, -c_1 * sin_alpha_1]]\n",
    "  u1_plot = [[-c_1 * cos_alpha_1, -c_1 * cos_alpha_1 + u], [-c_1 * sin_alpha_1, -c_1 * sin_alpha_1]]\n",
    "  w1_plot = [[0, -c_1 * cos_alpha_1 + u], [0, -c_1 * sin_alpha_1]]\n",
    "  w2_plot = [[0, w_2 * cos_beta_2], [0, -w_2 * sin_beta_2]]\n",
    "  u2_plot = [[w_2 * cos_beta_2, w_2 * cos_beta_2 - u], [-w_2 * sin_beta_2, -w_2 * sin_beta_2]]\n",
    "  c2_plot = [[0, w_2 * cos_beta_2 - u], [0, -w_2 * sin_beta_2]]\n",
    "  return c1_plot,u1_plot,w1_plot,w2_plot,u2_plot,c2_plot"
   ]
  },
  {
   "cell_type": "code",
   "execution_count": null,
   "id": "6de96354-e24a-4216-94e2-61750b941fce",
   "metadata": {},
   "outputs": [],
   "source": [
    "def plot(c1_plot,u1_plot,w1_plot,w2_plot,u2_plot,c2_plot):\n",
    "  fig, ax = plt.subplots(1, 1, figsize=(15, 5))\n",
    "  ax.plot(c1_plot[0], c1_plot[1], label='C_1', c='red')\n",
    "  ax.plot(u1_plot[0], u1_plot[1], label='u_1', c='blue')\n",
    "  ax.plot(w1_plot[0], w1_plot[1], label='W_1', c='green') \n",
    "  ax.plot(w2_plot[0], w2_plot[1], label='W_2', c='green')\n",
    "  ax.plot(u2_plot[0], u2_plot[1], label='u_2', c='blue')\n",
    "  ax.plot(c2_plot[0], c2_plot[1], label='C_2', c='red')\n",
    "  ax.set_title(\"Треугольник скоростей\",)\n",
    "  ax.legend()\n",
    "  ax.grid();"
   ]
  },
  {
   "cell_type": "code",
   "execution_count": null,
   "id": "2e226b37-7bb5-428d-be27-e951854b9864",
   "metadata": {},
   "outputs": [],
   "source": [
    "def all(p_0,t_0,p_2,avg_diameter,R,R_avg,degree_of_reaction_avg,alpha_1_deg_avg,theoretical_heat_drop):\n",
    "  degree_of_reaction = get_degree_of_reaction(R,R_avg,degree_of_reaction_avg)\n",
    "  alpha_1_deg = alpha_1(R,R_avg,alpha_1_deg_avg)  \n",
    "  stator_heat_drop, rotor_heat_drop = stator_and_rotor(theoretical_heat_drop,degree_of_reaction)  \n",
    "  c_1,cos_alpha_1,sin_alpha_1,u,w_2,cos_beta_2,sin_beta_2 = compute_speed(stator_heat_drop,avg_diameter,alpha_1_deg,rotor_heat_drop)\n",
    "  c1_plot,u1_plot,w1_plot,w2_plot,u2_plot,c2_plot = compute_points(c_1,cos_alpha_1,sin_alpha_1,u,w_2,cos_beta_2,sin_beta_2)\n",
    "  plot (c1_plot,u1_plot,w1_plot,w2_plot,u2_plot,c2_plot)"
   ]
  },
  {
   "cell_type": "code",
   "execution_count": null,
   "id": "baf6f593-4d6c-45e6-acc0-6a1f936eabe9",
   "metadata": {},
   "outputs": [],
   "source": [
    "theoretical_heat_drop = heat_drop(p_0,t_0,p_2)\n",
    "for i in range(len(diam)-1):\n",
    "    R = diam[i]/2    \n",
    "    R_avg = avg_diameter/2\n",
    "    all(p_0,t_0,p_2,avg_diameter,R,R_avg,degree_of_reaction_avg,alpha_1_deg_avg,theoretical_heat_drop)"
   ]
  },
  {
   "cell_type": "code",
   "execution_count": null,
   "id": "c2f8ab9e-9b04-4238-803b-13a93c196599",
   "metadata": {},
   "outputs": [],
   "source": []
  }
 ],
 "metadata": {
  "kernelspec": {
   "display_name": "Python 3 (ipykernel)",
   "language": "python",
   "name": "python3"
  },
  "language_info": {
   "codemirror_mode": {
    "name": "ipython",
    "version": 3
   },
   "file_extension": ".py",
   "mimetype": "text/x-python",
   "name": "python",
   "nbconvert_exporter": "python",
   "pygments_lexer": "ipython3",
   "version": "3.11.6"
  }
 },
 "nbformat": 4,
 "nbformat_minor": 5
}
