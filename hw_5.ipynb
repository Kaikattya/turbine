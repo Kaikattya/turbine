{
 "cells": [
  {
   "cell_type": "markdown",
   "id": "8893dc38-7e03-4cae-a9d9-ea1e9d174ed9",
   "metadata": {},
   "source": [
    "Каирова Екатерина ТФэ-01-21\n",
    "Домашняя работа 5"
   ]
  },
  {
   "cell_type": "markdown",
   "id": "3440ff25-8848-4628-9302-567e3c712338",
   "metadata": {},
   "source": [
    "Оценить расходы в цилиндр высокого давления и в конденсатор турбины без промежуточного переграва пара.\n",
    "\n",
    "Заданные параметры:\n",
    "\n",
    "Номинальная электрическая мощность: 250 МВт\n",
    "Начальное давление свежего пара: 23.5 МПа\n",
    "Начальная температура свежено пара: 540 C\n",
    "Конечное давление пара: 6.9 кПа\n",
    "Температура питательной воды: 263 C\n",
    "Число отборов: 8\n",
    "Механическое КПД: 99.2%\n",
    "КПД Электрогенератора: 99%"
   ]
  },
  {
   "cell_type": "code",
   "execution_count": 1,
   "id": "8a0b6ccf-7cd0-4ee7-84ea-32a2a584856e",
   "metadata": {},
   "outputs": [],
   "source": [
    "import iapws\n",
    "from iapws import IAPWS97 as gas"
   ]
  },
  {
   "cell_type": "code",
   "execution_count": 2,
   "id": "f944bf73-cd41-4ad7-9a7a-092a578844b6",
   "metadata": {},
   "outputs": [],
   "source": [
    "MPa = 10 ** 6\n",
    "kPa = 10 ** 3\n",
    "unit = 1 / MPa\n",
    "to_kelvin = lambda x: x + 273.15 if x else None"
   ]
  },
  {
   "cell_type": "code",
   "execution_count": 3,
   "id": "5a088b9d-4646-4f26-a554-25809e7edcbd",
   "metadata": {},
   "outputs": [],
   "source": [
    "electrical_power = 250 * (10 ** 6)\n",
    "p0 = 23.5 * MPa\n",
    "t0 = 540\n",
    "pk = 6.9 * kPa\n",
    "t_feed_water = 263\n",
    "p_feed_water = 1.35 * p0\n",
    "z = 8\n",
    "    \n",
    "internal_efficiency = 0.87\n",
    "mechanical_efficiency = 0.992\n",
    "generator_efficiency = 0.99"
   ]
  },
  {
   "cell_type": "code",
   "execution_count": 4,
   "id": "ecde9c5c-a54b-4807-be0b-d6b49ac184d3",
   "metadata": {},
   "outputs": [],
   "source": [
    "delta_p0 = 0.05 * p0\n",
    "real_p0 = p0 - delta_p0"
   ]
  },
  {
   "cell_type": "code",
   "execution_count": 5,
   "id": "647d32fa-3148-40ae-a21b-6af12f736344",
   "metadata": {},
   "outputs": [
    {
     "data": {
      "text/plain": [
       "(3324.8416450583477, 3324.8416450583477, 2101.6822936559656)"
      ]
     },
     "execution_count": 5,
     "metadata": {},
     "output_type": "execute_result"
    }
   ],
   "source": [
    "_point_0 = gas(P = p0 * unit, T=to_kelvin(t0))\n",
    "point_0 = gas(P=real_p0 * unit, h = _point_0.h)\n",
    "point_2t = gas(P=pk * unit, s=_point_0.s)\n",
    "    \n",
    "hp_heat_drop = (_point_0.h - point_2t.h) * internal_efficiency\n",
    "h_2 = point_0.h - hp_heat_drop\n",
    "point_2 = gas(P=pk * unit, h=h_2)\n",
    "_point_0.h, point_0.h, h_2"
   ]
  },
  {
   "cell_type": "code",
   "execution_count": 6,
   "id": "7d119443-4a0f-4321-a163-274551e7d032",
   "metadata": {},
   "outputs": [
    {
     "data": {
      "text/plain": [
       "0.8699999999999999"
      ]
     },
     "execution_count": 6,
     "metadata": {},
     "output_type": "execute_result"
    }
   ],
   "source": [
    "efficiency_hp = (_point_0.h - point_2.h) / (_point_0.h - point_2t.h)\n",
    "efficiency_hp"
   ]
  },
  {
   "cell_type": "code",
   "execution_count": 7,
   "id": "a4f1a86e-eea5-4173-8136-d220fb10fd7b",
   "metadata": {},
   "outputs": [
    {
     "data": {
      "text/plain": [
       "1148.7663349382658"
      ]
     },
     "execution_count": 7,
     "metadata": {},
     "output_type": "execute_result"
    }
   ],
   "source": [
    "point_k_water = gas(P=pk * unit, x=0)\n",
    "    \n",
    "point_feed_water = gas(P=p_feed_water * unit, T=to_kelvin(t_feed_water))\n",
    "point_feed_water.h"
   ]
  },
  {
   "cell_type": "code",
   "execution_count": 8,
   "id": "e98b5d2d-6f39-424f-b990-99eb82a6e4f3",
   "metadata": {},
   "outputs": [
    {
     "data": {
      "text/plain": [
       "0.14709057780648582"
      ]
     },
     "execution_count": 8,
     "metadata": {},
     "output_type": "execute_result"
    }
   ],
   "source": [
    "numenator_without = point_2.T * (_point_0.s - point_k_water.s)\n",
    "denumenator_without = (point_0.h - point_k_water.h)\n",
    "without_part = 1 - (numenator_without / denumenator_without)\n",
    "    \n",
    "numenator_infinity = point_2.T * (_point_0.s - point_feed_water.s)\n",
    "denumenator_infinity = (point_0.h - point_feed_water.h)\n",
    "infinity_part = 1 - (numenator_infinity / denumenator_infinity)\n",
    "    \n",
    "ksi_infinity = 1 - (without_part / infinity_part)\n",
    "ksi_infinity"
   ]
  },
  {
   "cell_type": "code",
   "execution_count": 9,
   "id": "5b284f9b-70c2-4e13-9106-ef91b30cba6b",
   "metadata": {},
   "outputs": [
    {
     "data": {
      "text/plain": [
       "0.668521593152601"
      ]
     },
     "execution_count": 9,
     "metadata": {},
     "output_type": "execute_result"
    }
   ],
   "source": [
    "coeff = (point_feed_water.T - point_2.T) / (to_kelvin(374.2) - point_2.T)\n",
    "coeff"
   ]
  },
  {
   "cell_type": "code",
   "execution_count": 10,
   "id": "e2ea20eb-6ec1-4ac3-aa18-fcf4a70cbad2",
   "metadata": {},
   "outputs": [
    {
     "data": {
      "text/plain": [
       "0.12208517957938322"
      ]
     },
     "execution_count": 10,
     "metadata": {},
     "output_type": "execute_result"
    }
   ],
   "source": [
    "ksi = 0.83 * ksi_infinity\n",
    "ksi"
   ]
  },
  {
   "cell_type": "code",
   "execution_count": 11,
   "id": "a736cf11-e170-477a-9d06-ed106b629a21",
   "metadata": {},
   "outputs": [
    {
     "data": {
      "text/plain": [
       "0.4405417944115711"
      ]
     },
     "execution_count": 11,
     "metadata": {},
     "output_type": "execute_result"
    }
   ],
   "source": [
    "eff_num = hp_heat_drop\n",
    "eff_denum = (point_0.h - point_k_water.h)\n",
    "efficiency = (eff_num / eff_denum) * (1 / (1 - ksi))\n",
    "efficiency"
   ]
  },
  {
   "cell_type": "code",
   "execution_count": 12,
   "id": "5c849c2c-a1b0-4010-920c-935ff239d149",
   "metadata": {},
   "outputs": [
    {
     "data": {
      "text/plain": [
       "958.6521218950169"
      ]
     },
     "execution_count": 12,
     "metadata": {},
     "output_type": "execute_result"
    }
   ],
   "source": [
    "estimated_heat_drop = efficiency * ((point_0.h - point_feed_water.h))\n",
    "estimated_heat_drop"
   ]
  },
  {
   "cell_type": "code",
   "execution_count": 13,
   "id": "ce433d81-0094-4c91-9772-8b173f67e660",
   "metadata": {},
   "outputs": [
    {
     "data": {
      "text/plain": [
       "265.5413164830065"
      ]
     },
     "execution_count": 13,
     "metadata": {},
     "output_type": "execute_result"
    }
   ],
   "source": [
    "inlet_mass_flow = electrical_power / (estimated_heat_drop * 1000 * mechanical_efficiency * generator_efficiency)\n",
    "inlet_mass_flow"
   ]
  },
  {
   "cell_type": "code",
   "execution_count": 17,
   "id": "80722c11-8048-45ac-9c44-9ab68cc8af71",
   "metadata": {},
   "outputs": [
    {
     "data": {
      "text/plain": [
       "604703831995994.0"
      ]
     },
     "execution_count": 17,
     "metadata": {},
     "output_type": "execute_result"
    }
   ],
   "source": [
    "condenser_mass_flow = (\n",
    "    electrical_power *\n",
    "    ((point_2.h - point_k_water.h) * 1000 * mechanical_efficiency * generator_efficiency) * ((1 / efficiency) - 1)\n",
    "    )\n",
    "condenser_mass_flow"
   ]
  },
  {
   "cell_type": "code",
   "execution_count": 18,
   "id": "e80599a6-7fe5-4e8b-ac8b-5b528c59f249",
   "metadata": {},
   "outputs": [
    {
     "name": "stdout",
     "output_type": "stream",
     "text": [
      "Массовый расход в турбину на входе 265.5413164830065\n"
     ]
    }
   ],
   "source": [
    "print(\"Массовый расход в турбину на входе\", inlet_mass_flow)"
   ]
  },
  {
   "cell_type": "code",
   "execution_count": 19,
   "id": "aa9058c7-0fbc-4ca5-a7fa-a6e71fb5b5aa",
   "metadata": {},
   "outputs": [
    {
     "name": "stdout",
     "output_type": "stream",
     "text": [
      "Массовый расход в конденсатор 604703831995994.0\n"
     ]
    }
   ],
   "source": [
    "print(\"Массовый расход в конденсатор\", condenser_mass_flow)"
   ]
  },
  {
   "cell_type": "code",
   "execution_count": null,
   "id": "c089d860-03a5-447e-9329-b68e82a42b13",
   "metadata": {},
   "outputs": [],
   "source": []
  }
 ],
 "metadata": {
  "kernelspec": {
   "display_name": "Python 3 (ipykernel)",
   "language": "python",
   "name": "python3"
  },
  "language_info": {
   "codemirror_mode": {
    "name": "ipython",
    "version": 3
   },
   "file_extension": ".py",
   "mimetype": "text/x-python",
   "name": "python",
   "nbconvert_exporter": "python",
   "pygments_lexer": "ipython3",
   "version": "3.11.6"
  }
 },
 "nbformat": 4,
 "nbformat_minor": 5
}
