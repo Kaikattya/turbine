{
 "cells": [
  {
   "cell_type": "markdown",
   "id": "0145e7cd-2510-42c4-a505-cbe8cd29b010",
   "metadata": {},
   "source": [
    "дз 2 задача 2 "
   ]
  },
  {
   "cell_type": "code",
   "execution_count": 25,
   "id": "61ffba38-2395-4a26-be8b-0a55f943cfd4",
   "metadata": {},
   "outputs": [],
   "source": [
    "cp1 = 1.84 # кДж/(кг*К)\n",
    "cp2 = 2.09 # кДж/(кг*К)\n",
    "\n",
    "p_0 = 10 # МПа\n",
    "p_k = 10 # кПа\n",
    "\n",
    "delta_h = 2400\n",
    "\n",
    "d01 = 2.9 \n",
    "d02 = 3.4 \n",
    "\n",
    "P = 1 # МВт"
   ]
  },
  {
   "cell_type": "code",
   "execution_count": 26,
   "id": "1b49d1d4-bfb3-40b9-a8c4-77c581c9f89a",
   "metadata": {},
   "outputs": [],
   "source": [
    "t_0 = 273.15 + 350 \n",
    "t_k = 273.15 + 40 \n",
    "\n",
    "c_p1 = cp1 / 1000 \n",
    "c_p2 = cp2 / 1000 \n",
    "\n",
    "delta_t = delta_h / (c_p1 - c_p2)\n",
    "\n",
    "t_p = t_k + delta_t\n",
    "\n",
    "n = 1 - t_k / t_0\n",
    "\n",
    "q1 = (3600 / d01) * ((c_p1 * (t_0 - t_p)) / P)\n",
    "q2 = (3600 / d02) * ((c_p1 * (t_0 - t_p) - c_p2 * (t_p - t_k)) / P)"
   ]
  },
  {
   "cell_type": "code",
   "execution_count": 27,
   "id": "5470443d-fca4-4447-ba31-84c5b261af83",
   "metadata": {},
   "outputs": [
    {
     "name": "stdout",
     "output_type": "stream",
     "text": [
      "КПД: 0.497\n",
      "Удельный расход теплоты на выработку электроэнергии при d01: 21928432.221 кДж/кВт*ч\n",
      "Удельный расход теплоты на выработку электроэнергии при d02: 39947898.071 кДж/кВт*ч\n"
     ]
    }
   ],
   "source": [
    "print(f\"КПД: {n:.3f}\")\n",
    "print(f\"Удельный расход теплоты на выработку электроэнергии при d01: {q1:.3f} кДж/кВт*ч\")\n",
    "print(f\"Удельный расход теплоты на выработку электроэнергии при d02: {q2:.3f} кДж/кВт*ч\")"
   ]
  }
 ],
 "metadata": {
  "kernelspec": {
   "display_name": "Python 3 (ipykernel)",
   "language": "python",
   "name": "python3"
  },
  "language_info": {
   "codemirror_mode": {
    "name": "ipython",
    "version": 3
   },
   "file_extension": ".py",
   "mimetype": "text/x-python",
   "name": "python",
   "nbconvert_exporter": "python",
   "pygments_lexer": "ipython3",
   "version": "3.11.5"
  }
 },
 "nbformat": 4,
 "nbformat_minor": 5
}
