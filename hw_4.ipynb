{
 "cells": [
  {
   "cell_type": "markdown",
   "id": "e010112a-d311-4f3c-8067-1fec6d51bed8",
   "metadata": {},
   "source": [
    "Каирова Екатерина ТФэ-01-21\n",
    "Домашняя работа 4"
   ]
  },
  {
   "cell_type": "markdown",
   "id": "0bee701c-320c-4e97-b736-eb498cd2f576",
   "metadata": {},
   "source": [
    "По аналогии с решением задач из практики, построить график зависимости $\\eta_{oi} = f(H_0)$ в диапазоне $H_0$ = (50 - 150) $\\frac {kJ}{kg}$. $\\eta_{ол}$ = 78%. $u = 160 m/s$. Все остальные переменные и условия принять такие же как на практическом заняти."
   ]
  },
  {
   "cell_type": "code",
   "execution_count": 12,
   "id": "bddd38a1-c9b7-4224-bc42-4ad7bc2a2827",
   "metadata": {},
   "outputs": [],
   "source": [
    "import iapws\n",
    "from iapws import IAPWS97 as gas\n",
    "import math\n",
    "import matplotlib.pyplot as plt\n",
    "import numpy as np\n",
    "    \n",
    "MPa = 10 ** 6\n",
    "kPa = 10 ** 3\n",
    "unit = 1 / MPa\n",
    "to_kelvin = lambda x: x + 273.15 if x else None"
   ]
  },
  {
   "cell_type": "code",
   "execution_count": 13,
   "id": "347d1039-1eef-4ff3-a4f7-3e5274daf91f",
   "metadata": {},
   "outputs": [],
   "source": [
    "p = 5 * MPa\n",
    "t = to_kelvin(489)\n",
    "H_0 = range(50,150)\n",
    "u = 160\n",
    "F1 = 0.025\n",
    "d_r = 1.09\n",
    "s_div_r = 0.2\n",
    "degree__of_reaction = 0.1\n",
    "z_bandage = 2\n",
    "delta_r_bandage = 1.17 / 1000\n",
    "delta_a_bandage = 4 / 1000\n",
    "z_rotor = 5\n",
    "d_leak_rotor = 0.36\n",
    "delta_leak_rotor = 0.4 / 1000\n",
    "e = 0.8\n",
    "sin_alpha_1 = 0.225\n",
    "blade_width = 0.035\n",
    "blade_length = 0.035\n",
    "blade_efficiency = 0.78\n",
    "segments = 4\n",
    "F1 = 0.025\n",
    "K_y = 1\n",
    "mu_r_rotor = 0.8\n",
    "mu_nozzle = 0.97\n",
    "mu_a = 0.5\n",
    "mu_r = 0.8"
   ]
  },
  {
   "cell_type": "code",
   "execution_count": 14,
   "id": "d2d2dafd-87c2-4554-be7d-78212be2d6fe",
   "metadata": {},
   "outputs": [],
   "source": [
    "point = gas(P=p * unit, T=t)\n",
    "kinematic_viscosity = point.nu"
   ]
  },
  {
   "cell_type": "code",
   "execution_count": 15,
   "id": "aa869236-f1bc-4efd-a237-c6ef94b92701",
   "metadata": {},
   "outputs": [],
   "source": [
    "  def get_Re_numbeer(u, d_r):\n",
    "        return  u * d_r * 0.5 / kinematic_viscosity"
   ]
  },
  {
   "cell_type": "code",
   "execution_count": 16,
   "id": "2fcc7dee-3f22-4b24-9069-35dc2957acec",
   "metadata": {},
   "outputs": [],
   "source": [
    "    def get_k_frictions(s_div_r, re):\n",
    "        return 2.5 * 10 ** (-2) * s_div_r ** 0.1 * re **(-0.2)"
   ]
  },
  {
   "cell_type": "code",
   "execution_count": 17,
   "id": "2d390171-68eb-43ad-aee9-0e4e5bddbacf",
   "metadata": {},
   "outputs": [],
   "source": [
    "def get_friction_loss_pu(s_div_r, d_r, u, kinematic_viscosity, u_div_dummy_speed, F1):\n",
    "        \n",
    "    Re_number = get_Re_numbeer(u,d_r)\n",
    "    k = get_k_frictions(s_div_r, Re_number)\n",
    "    \n",
    "    friction_loss_pu = k * d_r ** 2 * u_div_dummy_speed ** 3 / F1 \n",
    "    return friction_loss_pu"
   ]
  },
  {
   "cell_type": "code",
   "execution_count": 18,
   "id": "cb667ac6-f378-4435-bd40-0ae566cba6b7",
   "metadata": {},
   "outputs": [],
   "source": [
    "def get_ventilation_loss_pu(m, k, sin, e, u_div_dummy_speed):\n",
    "    first = k / sin\n",
    "    second = (1 - e) / e\n",
    "    third = u_div_dummy_speed ** 3\n",
    "    return first * second * third * m"
   ]
  },
  {
   "cell_type": "code",
   "execution_count": 19,
   "id": "8adc7487-b4c4-4fc4-b8d7-61b5c52a478e",
   "metadata": {},
   "outputs": [],
   "source": [
    "def get_segment_loss_pu(B, l, F, u_div_dummy_speed, blade_efficiency, segments):\n",
    "    first = 0.25 * B * l / F\n",
    "    second = u_div_dummy_speed * blade_efficiency * segments\n",
    "    return first * second"
   ]
  },
  {
   "cell_type": "code",
   "execution_count": 20,
   "id": "e95a4572-7af8-4527-b313-b44135e88049",
   "metadata": {},
   "outputs": [],
   "source": [
    "def get_partial_losses_pu(u_div_dummy_speed, blade_width, blade_length, F1, blade_efficiency, segments):\n",
    "    \n",
    "    ventilation_loss_pu = get_ventilation_loss_pu(\n",
    "    m = 1,\n",
    "    k = 0.065,\n",
    "    e = e,\n",
    "    u_div_dummy_speed = u_div_dummy_speed,\n",
    "    sin = sin_alpha_1\n",
    "    )\n",
    "    \n",
    "    segment_loss_pu = get_segment_loss_pu(\n",
    "    B = blade_width,\n",
    "    l = blade_length,\n",
    "    F = F1,\n",
    "    u_div_dummy_speed = u_div_dummy_speed,\n",
    "    blade_efficiency = blade_efficiency,\n",
    "    segments = segments\n",
    "    )\n",
    "\n",
    "    partial_losses_pu = segment_loss_pu + ventilation_loss_pu\n",
    "    return partial_losses_pu\n"
   ]
  },
  {
   "cell_type": "code",
   "execution_count": 21,
   "id": "f24cbd52-99cc-4b6f-9021-e938f33cef54",
   "metadata": {},
   "outputs": [],
   "source": [
    "def compute_equal_gap(z, delta_r, mu_r_rotor, delta_a, mu_a):\n",
    "    first = 1 / (mu_a * delta_a) ** 2\n",
    "    second = z / (mu_r_rotor * delta_r) ** 2\n",
    "    return (first + second) ** (-0.5)"
   ]
  },
  {
   "cell_type": "code",
   "execution_count": 24,
   "id": "60c2f550-de4f-497c-9b8f-c3ca3255643e",
   "metadata": {},
   "outputs": [],
   "source": [
    "def get_bandage_leak_loss_pu(d_shroud, delta_eq, F, dor, l, efficiency):\n",
    "    d_avg = d_shroud - l\n",
    "    first = math.pi * d_shroud * delta_eq  \n",
    "    second = dor + 1.8 * (l / d_avg)\n",
    "    return first * (second) ** 0.5 * efficiency"
   ]
  },
  {
   "cell_type": "code",
   "execution_count": 25,
   "id": "d3b81d6a-6d08-44b8-bc44-5dbbf7545891",
   "metadata": {},
   "outputs": [],
   "source": [
    "def get_disk_leak_loss_pu(K, F, mu_r_rotor, mu_nozzle, F_nozzle, z, efficiency):\n",
    "    upper = mu_r_rotor * K * F * efficiency\n",
    "    lower = mu_nozzle * F_nozzle * z ** 0.5\n",
    "    return upper / lower"
   ]
  },
  {
   "cell_type": "code",
   "execution_count": 26,
   "id": "02d4b644-c88c-4718-8df9-d1c75af42a5c",
   "metadata": {},
   "outputs": [],
   "source": [
    "def get_leak_losses_pu(z_bandage, delta_r_bandage, mu_r_rotor, delta_a_bandage, z_rotor, mu_a, mu_nozzle, F1, degree__of_reaction, blade_length, delta_leak_rotor, d_leak_rotor, blade_efficiency, K_y):\n",
    "    \n",
    "    d_shroud = delta_r_bandage / 0.001 # По определению задачи\n",
    "    delta_eq_bandage = compute_equal_gap(\n",
    "        z = z_bandage,\n",
    "        delta_r = delta_r_bandage,\n",
    "        mu_r_rotor = mu_r_rotor,\n",
    "        delta_a = delta_a_bandage,\n",
    "        mu_a = mu_a\n",
    "    )\n",
    "\n",
    "    bandage_leak_loss_pu = get_bandage_leak_loss_pu(\n",
    "        d_shroud = d_shroud,\n",
    "        delta_eq = delta_eq_bandage,\n",
    "        F = F1,\n",
    "        dor = degree__of_reaction,\n",
    "        l = blade_length,\n",
    "        efficiency = blade_efficiency\n",
    "        )\n",
    "        \n",
    "    F_leak_rotor = math.pi * d_leak_rotor * delta_leak_rotor\n",
    "    \n",
    "    disk_leak_loss_pu = get_disk_leak_loss_pu(\n",
    "        K = K_y,\n",
    "        F = F_leak_rotor,\n",
    "        mu_r_rotor = mu_r_rotor,\n",
    "        mu_nozzle = mu_nozzle,\n",
    "        F_nozzle = F1,\n",
    "        z = z_rotor,\n",
    "        efficiency = blade_efficiency\n",
    "    )\n",
    "    \n",
    "    leak_losses_pu = disk_leak_loss_pu + bandage_leak_loss_pu\n",
    "    return leak_losses_pu"
   ]
  },
  {
   "cell_type": "code",
   "execution_count": 27,
   "id": "436a989d-5478-4c29-9f7a-9dd4356d0178",
   "metadata": {},
   "outputs": [],
   "source": [
    "def get_internal_efficiency(blade_efficiency, friction_loss_pu, partial_losses_pu, leak_losses_pu):\n",
    "    \n",
    "    internal_efficiency = blade_efficiency - friction_loss_pu - partial_losses_pu - leak_losses_pu\n",
    "    \n",
    "    return internal_efficiency"
   ]
  },
  {
   "cell_type": "code",
   "execution_count": 28,
   "id": "dffeeb93-8021-4a8d-ab47-bae6d082afc4",
   "metadata": {},
   "outputs": [],
   "source": [
    "leak_losses_pu = get_leak_losses_pu(\n",
    "    z_bandage = z_bandage,\n",
    "    delta_r_bandage = delta_r_bandage,\n",
    "    mu_r_rotor = mu_r_rotor,\n",
    "    delta_a_bandage = delta_a_bandage,\n",
    "    z_rotor = z_rotor,\n",
    "    mu_a = mu_a,\n",
    "    mu_nozzle = mu_nozzle,\n",
    "    F1 = F1,\n",
    "    degree__of_reaction = degree__of_reaction,\n",
    "    blade_length = blade_length,\n",
    "    delta_leak_rotor = delta_leak_rotor,\n",
    "    d_leak_rotor  = d_leak_rotor,\n",
    "    blade_efficiency = blade_efficiency,\n",
    "    K_y = K_y\n",
    "    )"
   ]
  },
  {
   "cell_type": "code",
   "execution_count": 30,
   "id": "b2431626-309e-4639-97e7-a6dd924ef033",
   "metadata": {},
   "outputs": [],
   "source": [
    "internal_efficiency = []\n",
    "for H_0value in H_0:\n",
    "    H_0value=H_0value*1000\n",
    "    dummy_speed = (2 * H_0value) ** 0.5\n",
    "    u_div_dummy_speed = u / dummy_speed\n",
    "    \n",
    "    friction_loss_pu = get_friction_loss_pu(\n",
    "        s_div_r = s_div_r,\n",
    "        d_r = d_r,\n",
    "           u = u,\n",
    "        kinematic_viscosity = kinematic_viscosity,\n",
    "        u_div_dummy_speed = u_div_dummy_speed,\n",
    "        F1 = F1\n",
    "    )\n",
    "  \n",
    "    partial_losses_pu = get_partial_losses_pu(\n",
    "        u_div_dummy_speed = u_div_dummy_speed,\n",
    "        blade_width = blade_width,\n",
    "        blade_length = blade_length,\n",
    "        F1 = F1,\n",
    "        blade_efficiency = blade_efficiency,\n",
    "        segments = segments\n",
    "    )\n",
    "    internal_efficiency.append(get_internal_efficiency(blade_efficiency,friction_loss_pu,partial_losses_pu,leak_losses_pu))"
   ]
  },
  {
   "cell_type": "code",
   "execution_count": 32,
   "id": "0102b5b7-eaa5-42de-944a-37380119bbc5",
   "metadata": {},
   "outputs": [
    {
     "data": {
      "image/png": "[encoded data removed]",
      "text/plain": [
       "<Figure size 640x480 with 1 Axes>"
      ]
     },
     "metadata": {},
     "output_type": "display_data"
    }
   ],
   "source": [
    "x = H_0\n",
    "y = internal_efficiency\n",
    "plt.figure(layout = 'constrained')\n",
    "plt.plot(x,y) \n",
    "plt.xlabel('H_0')\n",
    "plt.ylabel('$\\\\eta_{oi}$')\n",
    "plt.title(\"Зависимость $\\\\eta_{oi}$ от значения H_0\")\n",
    "plt.grid()"
   ]
  },
  {
   "cell_type": "code",
   "execution_count": null,
   "id": "37a1bd28-0477-4371-843d-0be0696274a0",
   "metadata": {},
   "outputs": [],
   "source": []
  }
 ],
 "metadata": {
  "kernelspec": {
   "display_name": "Python 3 (ipykernel)",
   "language": "python",
   "name": "python3"
  },
  "language_info": {
   "codemirror_mode": {
    "name": "ipython",
    "version": 3
   },
   "file_extension": ".py",
   "mimetype": "text/x-python",
   "name": "python",
   "nbconvert_exporter": "python",
   "pygments_lexer": "ipython3",
   "version": "3.11.6"
  }
 },
 "nbformat": 4,
 "nbformat_minor": 5
}
