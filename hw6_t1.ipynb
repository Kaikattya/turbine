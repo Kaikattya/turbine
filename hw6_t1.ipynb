{
 "cells": [
  {
   "cell_type": "markdown",
   "id": "c89fab1c-9411-4ee2-9ca2-bcc0c536b473",
   "metadata": {},
   "source": [
    "Каирова Екатерина ТФэ-01-21\n",
    "Домашняя работа 6 \n",
    "Задача 1"
   ]
  },
  {
   "cell_type": "markdown",
   "id": "03f4de91-0632-4321-93f8-def5994ddcb5",
   "metadata": {},
   "source": [
    "Чему равна потеря с выходной скоростью вс\n",
    " в последней ступени ЦВД паровой турбины К-800-240? Расход пара через ступени G=605 кг/c, параметры пара за рабочей решеткой \n",
    "=3.8MPa, и \n",
    "=305 C. Средний диаметр ступени d=1.05м, длинна рабочей лопатки \n",
    "=210мм, угол \n",
    "=18 градусов, частота вращения 50 Гц"
   ]
  },
  {
   "cell_type": "code",
   "execution_count": 21,
   "id": "f82eeef6-3a11-493c-b0ba-9268f8c91a77",
   "metadata": {},
   "outputs": [],
   "source": [
    "import numpy as np\n",
    "import iapws\n",
    "from iapws import IAPWS97 as gas"
   ]
  },
  {
   "cell_type": "code",
   "execution_count": 22,
   "id": "f3edc9e5-44a6-47c6-b7a8-4cbbfa6a6b55",
   "metadata": {},
   "outputs": [],
   "source": [
    "MPa = 10 ** 6\n",
    "MW = 10 ** 6\n",
    "unit_1 = 1 / MW\n",
    "kPa = 10 ** 3\n",
    "unit = 1 / MPa\n",
    "to_kelvin = lambda x: x + 273.15 if x else None"
   ]
  },
  {
   "cell_type": "code",
   "execution_count": 23,
   "id": "97decdc2-aec7-41a9-840a-a2d06a47a46a",
   "metadata": {},
   "outputs": [],
   "source": [
    "G = 605 \n",
    "p_2 = 3.8 * MPa\n",
    "t_2 = to_kelvin(305)\n",
    "D_average = 1.05 \n",
    "l_2 = 0.210 \n",
    "beta_2_deg = 18\n",
    "n =  50 \n",
    "psi = 0.935\n",
    "mu_2 = 0.93"
   ]
  },
  {
   "cell_type": "code",
   "execution_count": 24,
   "id": "8e0bd20a-182f-4186-a063-f0d2a26b0d21",
   "metadata": {},
   "outputs": [],
   "source": [
    "point_2 = gas(P = p_2 * unit, T = t_2)\n",
    "v2t = point_2.v"
   ]
  },
  {
   "cell_type": "code",
   "execution_count": 25,
   "id": "e5c2613d-4df5-453b-8233-90759698eebd",
   "metadata": {},
   "outputs": [],
   "source": [
    "sin_beta2 = np.sin(np.radians(beta_2_deg))\n",
    "cos_beta2 = np.cos(np.radians(beta_2_deg))"
   ]
  },
  {
   "cell_type": "code",
   "execution_count": 26,
   "id": "080e4d82-68bf-404f-a313-b2acf4aac82b",
   "metadata": {},
   "outputs": [],
   "source": [
    "upper = G * v2t\n",
    "lower = mu_2 * sin_beta2 * np.pi * D_average * l_2\n",
    "w2t = upper / lower"
   ]
  },
  {
   "cell_type": "code",
   "execution_count": 27,
   "id": "b0f5fc6c-02e5-4b56-a153-84ff1a737ac4",
   "metadata": {},
   "outputs": [],
   "source": [
    "w2 = w2t * psi\n",
    "u = np.pi * D_average * n\n",
    "c2 = (w2 ** 2 + u ** 2 - 2 * w2 * u * cos_beta2) ** 0.5"
   ]
  },
  {
   "cell_type": "code",
   "execution_count": 28,
   "id": "51efd314-f96d-4b9a-98fc-abd8cc567f91",
   "metadata": {},
   "outputs": [],
   "source": [
    "loss_outlet_velocity = 0.5 * c2 ** 2"
   ]
  },
  {
   "cell_type": "code",
   "execution_count": 29,
   "id": "d2b927e7-5c5d-4492-a313-b71f3c3ea089",
   "metadata": {},
   "outputs": [
    {
     "name": "stdout",
     "output_type": "stream",
     "text": [
      "Потери 1559.177\n"
     ]
    }
   ],
   "source": [
    "print(\"Потери\", round( loss_outlet_velocity , 3) )"
   ]
  }
 ],
 "metadata": {
  "kernelspec": {
   "display_name": "Python 3 (ipykernel)",
   "language": "python",
   "name": "python3"
  },
  "language_info": {
   "codemirror_mode": {
    "name": "ipython",
    "version": 3
   },
   "file_extension": ".py",
   "mimetype": "text/x-python",
   "name": "python",
   "nbconvert_exporter": "python",
   "pygments_lexer": "ipython3",
   "version": "3.11.7"
  }
 },
 "nbformat": 4,
 "nbformat_minor": 5
}
